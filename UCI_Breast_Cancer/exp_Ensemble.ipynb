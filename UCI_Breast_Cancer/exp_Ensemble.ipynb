{
 "cells": [
  {
   "cell_type": "code",
   "execution_count": 1,
   "metadata": {},
   "outputs": [],
   "source": [
    "import numpy as np\n",
    "import pandas as pd\n",
    "from sklearn.datasets import load_breast_cancer\n",
    "from sklearn.model_selection import train_test_split\n",
    "from sklearn.ensemble import VotingClassifier\n",
    "from sklearn.metrics import accuracy_score, recall_score, precision_score, f1_score\n",
    "import os\n",
    "\n",
    "import sys\n",
    "sys.path.append(\"..\")\n",
    "from utils.serialization import save_model, load_model\n",
    "\n",
    "import warnings\n",
    "warnings.filterwarnings(\"ignore\")"
   ]
  },
  {
   "cell_type": "markdown",
   "metadata": {},
   "source": [
    "### Dataset"
   ]
  },
  {
   "cell_type": "code",
   "execution_count": 2,
   "metadata": {},
   "outputs": [],
   "source": [
    "X, y = load_breast_cancer(return_X_y=True)\n",
    "X_train, X_test, y_train, y_test = train_test_split(X, y, test_size=0.1, stratify=y)"
   ]
  },
  {
   "cell_type": "markdown",
   "metadata": {},
   "source": [
    "### Voting over Pre-trained Models"
   ]
  },
  {
   "cell_type": "code",
   "execution_count": 3,
   "metadata": {},
   "outputs": [
    {
     "data": {
      "text/plain": [
       "1.0"
      ]
     },
     "execution_count": 3,
     "metadata": {},
     "output_type": "execute_result"
    }
   ],
   "source": [
    "svc = load_model(os.path.join(os.getcwd(), \"trained_models/model_SVM.pickle\"))\n",
    "rf = load_model(os.path.join(os.getcwd(), \"trained_models/model_Random_Forest.pickle\"))\n",
    "pla = load_model(os.path.join(os.getcwd(), \"trained_models/model_PLA.pickle\"))\n",
    "lr = load_model(os.path.join(os.getcwd(), \"trained_models/model_Logistic_Regression.pickle\"))\n",
    "knn = load_model(os.path.join(os.getcwd(), \"trained_models/model_KNN.pickle\"))\n",
    "vote = VotingClassifier([('svc', svc), ('rf', rf), ('pla', pla), ('lr', lr), ('knn', knn)])\n",
    "\n",
    "vote.fit(X_train, y_train)\n",
    "vote.score(X_test, y_test)"
   ]
  },
  {
   "cell_type": "markdown",
   "metadata": {},
   "source": [
    "### Evaluation"
   ]
  },
  {
   "cell_type": "code",
   "execution_count": 4,
   "metadata": {},
   "outputs": [
    {
     "name": "stdout",
     "output_type": "stream",
     "text": [
      "accuracy: 100.0 %\n",
      "recall: 100.0 %\n",
      "precision: 100.0 %\n",
      "f1_score: 100.0 %\n"
     ]
    }
   ],
   "source": [
    "prediction = vote.predict(X_test)\n",
    "acc = accuracy_score(y_test, prediction)\n",
    "recall = recall_score(y_test, prediction, average='macro')\n",
    "precision = precision_score(y_test, prediction, average='macro')\n",
    "f1 = f1_score(y_test, prediction, average='macro')\n",
    "print(f\"accuracy: {acc * 100:.1f} %\")\n",
    "print(f\"recall: {recall * 100:.1f} %\")\n",
    "print(f\"precision: {precision * 100:.1f} %\")\n",
    "print(f\"f1_score: {f1 * 100:.1f} %\")"
   ]
  },
  {
   "cell_type": "markdown",
   "metadata": {},
   "source": [
    "### Save Model"
   ]
  },
  {
   "cell_type": "code",
   "execution_count": 5,
   "metadata": {},
   "outputs": [],
   "source": [
    "path = os.path.join(os.getcwd(), \"trained_models/model_Ensemble.pickle\")\n",
    "save_model(path, vote)"
   ]
  },
  {
   "cell_type": "markdown",
   "metadata": {},
   "source": [
    "### Load Model"
   ]
  },
  {
   "cell_type": "code",
   "execution_count": 6,
   "metadata": {},
   "outputs": [
    {
     "data": {
      "text/plain": [
       "array([0, 0, 1, 0, 1, 1, 1, 0, 1, 0, 1, 1, 1, 1, 1, 1, 1, 1, 1, 1, 0, 1,\n",
       "       1, 0, 1, 1, 0, 1, 0, 1, 1, 0, 1, 1, 0, 1, 0, 0, 0, 1, 1, 1, 1, 0,\n",
       "       0, 0, 0, 1, 0, 1, 0, 1, 1, 1, 1, 0, 1])"
      ]
     },
     "execution_count": 6,
     "metadata": {},
     "output_type": "execute_result"
    }
   ],
   "source": [
    "path = os.path.join(os.getcwd(), \"trained_models/model_Ensemble.pickle\")\n",
    "model = load_model(path)\n",
    "model.predict(X_test)"
   ]
  }
 ],
 "metadata": {
  "kernelspec": {
   "display_name": "Python 3",
   "language": "python",
   "name": "python3"
  },
  "language_info": {
   "codemirror_mode": {
    "name": "ipython",
    "version": 3
   },
   "file_extension": ".py",
   "mimetype": "text/x-python",
   "name": "python",
   "nbconvert_exporter": "python",
   "pygments_lexer": "ipython3",
   "version": "3.8.3"
  }
 },
 "nbformat": 4,
 "nbformat_minor": 4
}
