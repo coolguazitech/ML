{
 "cells": [
  {
   "cell_type": "code",
   "execution_count": 1,
   "metadata": {},
   "outputs": [],
   "source": [
    "import numpy as np\n",
    "import pandas as pd\n",
    "from sklearn.datasets import load_iris\n",
    "from sklearn.decomposition import PCA\n",
    "from sklearn.linear_model import Perceptron\n",
    "from sklearn.pipeline import Pipeline\n",
    "from sklearn.model_selection import GridSearchCV, train_test_split\n",
    "from sklearn.metrics import accuracy_score, recall_score, precision_score, f1_score\n",
    "import os\n",
    "\n",
    "import sys\n",
    "sys.path.append(\"..\")\n",
    "from utils.serialization import save_model, load_model"
   ]
  },
  {
   "cell_type": "markdown",
   "metadata": {},
   "source": [
    "### Dataset"
   ]
  },
  {
   "cell_type": "code",
   "execution_count": 2,
   "metadata": {},
   "outputs": [],
   "source": [
    "X, y = load_iris(return_X_y=True)\n",
    "X_train, X_test, y_train, y_test = train_test_split(X, y, test_size=0.1, stratify=y)"
   ]
  },
  {
   "cell_type": "markdown",
   "metadata": {},
   "source": [
    "### Grid Search on PLA"
   ]
  },
  {
   "cell_type": "code",
   "execution_count": 3,
   "metadata": {},
   "outputs": [
    {
     "name": "stdout",
     "output_type": "stream",
     "text": [
      "best_params: {'pca__n_components': 2, 'pla__alpha': 0.0001}\n",
      "best_acc: 0.8963 %\n"
     ]
    }
   ],
   "source": [
    "pipe_pla = Pipeline([('pca', PCA()), ('pla', Perceptron())])\n",
    "param_grid = [\n",
    "    {\n",
    "        'pca__n_components': range(1, X_train.shape[1] + 1),\n",
    "        'pla__alpha': [0.0001, 0.001, 0.01, 0.1, 1.0, 10.0, 100.0],\n",
    "    }\n",
    "]\n",
    "gs = GridSearchCV(\n",
    "    estimator=pipe_pla,\n",
    "    param_grid=param_grid,\n",
    "    scoring='accuracy'\n",
    ")\n",
    "\n",
    "gs.fit(X_train, y_train)\n",
    "# print(pd.DataFrame(gs.cv_results_).head(10))\n",
    "print(f\"best_params: {gs.best_params_}\\nbest_acc: {gs.best_score_:.4f} %\")"
   ]
  },
  {
   "cell_type": "markdown",
   "metadata": {},
   "source": [
    "### Evaluation"
   ]
  },
  {
   "cell_type": "code",
   "execution_count": 4,
   "metadata": {},
   "outputs": [
    {
     "name": "stdout",
     "output_type": "stream",
     "text": [
      "accuracy: 86.7 %\n",
      "recall: 86.7 %\n",
      "precision: 90.5 %\n",
      "f1_score: 86.1 %\n"
     ]
    }
   ],
   "source": [
    "prediction = gs.predict(X_test)\n",
    "acc = accuracy_score(y_test, prediction)\n",
    "recall = recall_score(y_test, prediction, average='macro')\n",
    "precision = precision_score(y_test, prediction, average='macro')\n",
    "f1 = f1_score(y_test, prediction, average='macro')\n",
    "print(f\"accuracy: {acc * 100:.1f} %\")\n",
    "print(f\"recall: {recall * 100:.1f} %\")\n",
    "print(f\"precision: {precision * 100:.1f} %\")\n",
    "print(f\"f1_score: {f1 * 100:.1f} %\")"
   ]
  },
  {
   "cell_type": "markdown",
   "metadata": {},
   "source": [
    "### Save Model"
   ]
  },
  {
   "cell_type": "code",
   "execution_count": 5,
   "metadata": {},
   "outputs": [],
   "source": [
    "path = os.path.join(os.getcwd(), \"trained_models/model_PLA.pickle\")\n",
    "save_model(path, gs)"
   ]
  },
  {
   "cell_type": "markdown",
   "metadata": {},
   "source": [
    "### Load Model"
   ]
  },
  {
   "cell_type": "code",
   "execution_count": 6,
   "metadata": {},
   "outputs": [
    {
     "data": {
      "text/plain": [
       "array([1, 2, 0, 2, 0, 0, 2, 2, 2, 1, 1, 2, 0, 0, 2])"
      ]
     },
     "execution_count": 6,
     "metadata": {},
     "output_type": "execute_result"
    }
   ],
   "source": [
    "path = os.path.join(os.getcwd(), \"trained_models/model_PLA.pickle\")\n",
    "model = load_model(path)\n",
    "model.predict(X_test)"
   ]
  }
 ],
 "metadata": {
  "kernelspec": {
   "display_name": "Python 3",
   "language": "python",
   "name": "python3"
  },
  "language_info": {
   "codemirror_mode": {
    "name": "ipython",
    "version": 3
   },
   "file_extension": ".py",
   "mimetype": "text/x-python",
   "name": "python",
   "nbconvert_exporter": "python",
   "pygments_lexer": "ipython3",
   "version": "3.8.3"
  }
 },
 "nbformat": 4,
 "nbformat_minor": 4
}
